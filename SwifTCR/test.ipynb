{
 "cells": [
  {
   "cell_type": "code",
   "execution_count": 58,
   "metadata": {
    "collapsed": true,
    "ExecuteTime": {
     "end_time": "2023-05-23T14:26:53.578471800Z",
     "start_time": "2023-05-23T14:26:53.537016900Z"
    }
   },
   "outputs": [
    {
     "ename": "TypeError",
     "evalue": "process_tuple() missing 1 required positional argument: 'b'",
     "output_type": "error",
     "traceback": [
      "\u001B[1;31m---------------------------------------------------------------------------\u001B[0m",
      "\u001B[1;31mTypeError\u001B[0m                                 Traceback (most recent call last)",
      "Cell \u001B[1;32mIn[58], line 37\u001B[0m\n\u001B[0;32m     34\u001B[0m subsequences \u001B[38;5;241m=\u001B[39m chain_unique(get_subsequences(amino_acid_keys))\n\u001B[0;32m     36\u001B[0m result \u001B[38;5;241m=\u001B[39m map_function_over_tuples(subsequences)\n\u001B[1;32m---> 37\u001B[0m \u001B[38;5;28;43mlist\u001B[39;49m\u001B[43m(\u001B[49m\u001B[43mresult\u001B[49m\u001B[43m)\u001B[49m\n",
      "Cell \u001B[1;32mIn[58], line 31\u001B[0m, in \u001B[0;36mmap_function_over_tuples\u001B[1;34m(sequence)\u001B[0m\n\u001B[0;32m     29\u001B[0m         \u001B[38;5;28;01myield from\u001B[39;00m \u001B[38;5;28mmap\u001B[39m(process_tuple, chunk)\n\u001B[0;32m     30\u001B[0m         chunk \u001B[38;5;241m=\u001B[39m []\n\u001B[1;32m---> 31\u001B[0m \u001B[38;5;28;01myield from\u001B[39;00m \u001B[38;5;28mmap\u001B[39m(process_tuple, chunk)\n",
      "\u001B[1;31mTypeError\u001B[0m: process_tuple() missing 1 required positional argument: 'b'"
     ]
    }
   ],
   "source": [
    "from itertools import combinations, chain\n",
    "import random\n",
    "import string\n",
    "\n",
    "def chain_unique(*args):\n",
    "    seen = set()\n",
    "    for v in chain(*args):\n",
    "        if v not in seen:\n",
    "            seen.add(v)\n",
    "            yield v\n",
    "\n",
    "def subsequence_generator(sequence):\n",
    "    for ss in combinations(sequence, len(sequence) - 1):\n",
    "        yield ''.join(ss)\n",
    "\n",
    "def get_subsequences(amino_acid_keys):\n",
    "    for sequence in amino_acid_keys:\n",
    "        yield from subsequence_generator(sequence)\n",
    "\n",
    "def process_tuple(a, b):\n",
    "    result = a + b\n",
    "    return result\n",
    "\n",
    "def map_function_over_tuples(sequence):\n",
    "    chunk = []\n",
    "    for i, item in enumerate(sequence):\n",
    "        chunk.append(item)\n",
    "        if i % 1000 == 0 and i > 0:  # process in chunks of 1000\n",
    "            yield from map(process_tuple, chunk)\n",
    "            chunk = []\n",
    "    yield from map(process_tuple, chunk)  # process the remaining items\n",
    "\n",
    "amino_acid_keys = [''.join(random.choices(string.ascii_uppercase[:4], k=3)) for _ in range(1000)]\n",
    "subsequences = chain_unique(get_subsequences(amino_acid_keys))\n",
    "\n",
    "result = map_function_over_tuples(subsequences)\n",
    "list(result)"
   ]
  },
  {
   "cell_type": "code",
   "execution_count": 47,
   "outputs": [
    {
     "data": {
      "text/plain": "['BD',\n 'BB',\n 'DB',\n 'DA',\n 'AA',\n 'BC',\n 'CD',\n 'DD',\n 'CA',\n 'CC',\n 'AC',\n 'AD',\n 'CB',\n 'BA',\n 'AB',\n 'DC']"
     },
     "execution_count": 47,
     "metadata": {},
     "output_type": "execute_result"
    }
   ],
   "source": [
    "from itertools import combinations, chain\n",
    "import random\n",
    "from collections import Counter\n",
    "from more_itertools import ichunked\n",
    "\n",
    "def chain_unique(*args):\n",
    "    seen = set()\n",
    "    for v in chain(*args):\n",
    "        if v not in seen:\n",
    "            seen.add(v)\n",
    "            yield v\n",
    "\n",
    "# subsequence generator of the sequence's length - 1\n",
    "def subsequence_generator(sequence):\n",
    "    for ss in combinations(sequence, len(sequence) - 1):\n",
    "        yield ''.join(ss)\n",
    "\n",
    "# generate a random 10 sequences of length 5\n",
    "def get_subsequences(amino_acid_keys):\n",
    "    for sequence in amino_acid_keys:\n",
    "        yield from subsequence_generator(sequence)\n",
    "\n",
    "amino_acid_keys = [''.join(random.choices(string.ascii_uppercase[:4], k=3)) for _ in range(1000)]\n",
    "subsequences = chain_unique(get_subsequences(amino_acid_keys))\n",
    "#\n",
    "# counter = Counter()\n",
    "#\n",
    "# chunk_size = 100  # Define a reasonable chunk size here based on your memory availability\n",
    "# counters= []\n",
    "# for chunk in ichunked(subsequences, chunk_size):\n",
    "#     counters.append(Counter(chunk))\n",
    "\n",
    "# remove subsequences with a count of 1\n",
    "# counter = {k:v for k,v in counter.items() if v > 1}\n",
    "list(subsequences)"
   ],
   "metadata": {
    "collapsed": false,
    "ExecuteTime": {
     "end_time": "2023-05-23T13:42:41.068164700Z",
     "start_time": "2023-05-23T13:42:41.036970400Z"
    }
   }
  },
  {
   "cell_type": "code",
   "execution_count": 24,
   "outputs": [
    {
     "data": {
      "text/plain": "{'AA': 2,\n 'AC': 2,\n 'CC': 2,\n 'DC': 2,\n 'CB': 2,\n 'CA': 2,\n 'BA': 3,\n 'BD': 2,\n 'BC': 2}"
     },
     "execution_count": 24,
     "metadata": {},
     "output_type": "execute_result"
    }
   ],
   "source": [
    "# drop 1 value\n"
   ],
   "metadata": {
    "collapsed": false,
    "ExecuteTime": {
     "end_time": "2023-05-23T13:23:26.277749800Z",
     "start_time": "2023-05-23T13:23:26.261999200Z"
    }
   }
  },
  {
   "cell_type": "code",
   "execution_count": 49,
   "outputs": [
    {
     "data": {
      "text/plain": "Counter({'a': 2, 'b': 3, 'c': 1})"
     },
     "execution_count": 49,
     "metadata": {},
     "output_type": "execute_result"
    }
   ],
   "source": [
    "c = Counter(['a', 'b', 'c', 'a', 'b', 'b'])\n",
    "c"
   ],
   "metadata": {
    "collapsed": false,
    "ExecuteTime": {
     "end_time": "2023-05-23T13:46:04.510486Z",
     "start_time": "2023-05-23T13:46:04.452508200Z"
    }
   }
  },
  {
   "cell_type": "code",
   "execution_count": 53,
   "outputs": [
    {
     "name": "stdout",
     "output_type": "stream",
     "text": [
      "ChainMap({'a': 1, 'b': 2}, {'b': 3, 'c': 4})\n"
     ]
    }
   ],
   "source": [
    "# join directories with collections library\n",
    "from collections import ChainMap\n",
    "\n",
    "\n",
    "# create a chainmap of the current directory and the home directory\n",
    "chainmap = from collections import defaultdict\n",
    "from operator import itemgetter\n",
    "\n",
    "from itertools import chain, combinations, count, filterfalse, repeat\n",
    "from more_itertools import all_equal, pairwise, prepend, split_when\n",
    "\n",
    "\n",
    "\n",
    "def levenshtein(sequence_list):\n",
    "    '''\n",
    "    Given a list of sequences, return a list of sets of sequences that are all identical except for one character.\n",
    "\n",
    "    Args:\n",
    "    sequence_list: a list of sequences to be compared\n",
    "    Returns:\n",
    "    A list of sets of sequences that are all identical except for one character.\n",
    "    '''\n",
    "\n",
    "    def hash_subsequences(seq):\n",
    "        sub = prepend(tuple(seq), combinations(seq, len(seq) - 1))\n",
    "        return zip(map(hash, sub), count(), repeat(seq))\n",
    "\n",
    "    def hash_clusters(groups):\n",
    "        clusters = [(c[0][1], set(map(itemgetter(-1), c)))\n",
    "                    for c in split_when(groups, lambda s1, s2: s1[1] != s2[1])]\n",
    "        if clusters[0][0] == 0:\n",
    "            clusters = [(p, c.union(clusters[0][1])) for p, c in clusters[1:]]\n",
    "        return filterfalse(lambda g: len(g[1]) == 1, clusters)\n",
    "\n",
    "    sub_keys = chain(*map(hash_subsequences, sequence_list))\n",
    "    sorted_keys = sorted(sub_keys, key=lambda k: k[0] + k[1])\n",
    "\n",
    "    hash_groups = split_when(sorted_keys, lambda s1, s2: s1[0] != s2[0])\n",
    "    hash_groups = filterfalse(lambda g: len(g) == 1, hash_groups)\n",
    "    hash_groups = chain(*map(hash_clusters, hash_groups))\n",
    "\n",
    "    return set(tuple(sorted(edge)) for group in hash_groups for edge in combinations(group[1], 2))\n",
    "\n",
    "clusters = levenshtein(amino_acid_keys[:100000])\n",
    "clusters[0:2]({'a': 1, 'b': 2}, {'b': 3, 'c': 4})\n",
    "# print the joined chainmap\n",
    "print(chainmap)"
   ],
   "metadata": {
    "collapsed": false,
    "ExecuteTime": {
     "end_time": "2023-05-23T13:57:12.462419100Z",
     "start_time": "2023-05-23T13:57:12.433924100Z"
    }
   }
  },
  {
   "cell_type": "code",
   "execution_count": 54,
   "outputs": [
    {
     "ename": "TypeError",
     "evalue": "'set' object is not subscriptable",
     "output_type": "error",
     "traceback": [
      "\u001B[1;31m---------------------------------------------------------------------------\u001B[0m",
      "\u001B[1;31mTypeError\u001B[0m                                 Traceback (most recent call last)",
      "Cell \u001B[1;32mIn[54], line 40\u001B[0m\n\u001B[0;32m     37\u001B[0m     \u001B[38;5;28;01mreturn\u001B[39;00m \u001B[38;5;28mset\u001B[39m(\u001B[38;5;28mtuple\u001B[39m(\u001B[38;5;28msorted\u001B[39m(edge)) \u001B[38;5;28;01mfor\u001B[39;00m group \u001B[38;5;129;01min\u001B[39;00m hash_groups \u001B[38;5;28;01mfor\u001B[39;00m edge \u001B[38;5;129;01min\u001B[39;00m combinations(group[\u001B[38;5;241m1\u001B[39m], \u001B[38;5;241m2\u001B[39m))\n\u001B[0;32m     39\u001B[0m clusters \u001B[38;5;241m=\u001B[39m levenshtein(amino_acid_keys[:\u001B[38;5;241m100000\u001B[39m])\n\u001B[1;32m---> 40\u001B[0m \u001B[43mclusters\u001B[49m\u001B[43m[\u001B[49m\u001B[38;5;241;43m0\u001B[39;49m\u001B[43m:\u001B[49m\u001B[38;5;241;43m2\u001B[39;49m\u001B[43m]\u001B[49m\n",
      "\u001B[1;31mTypeError\u001B[0m: 'set' object is not subscriptable"
     ]
    }
   ],
   "source": [
    "from collections import defaultdict\n",
    "from operator import itemgetter\n",
    "\n",
    "from itertools import chain, combinations, count, filterfalse, repeat\n",
    "from more_itertools import all_equal, pairwise, prepend, split_when\n",
    "\n",
    "\n",
    "\n",
    "def levenshtein(sequence_list):\n",
    "    '''\n",
    "    Given a list of sequences, return a list of sets of sequences that are all identical except for one character.\n",
    "\n",
    "    Args:\n",
    "    sequence_list: a list of sequences to be compared\n",
    "    Returns:\n",
    "    A list of sets of sequences that are all identical except for one character.\n",
    "    '''\n",
    "\n",
    "    def hash_subsequences(seq):\n",
    "        sub = prepend(tuple(seq), combinations(seq, len(seq) - 1))\n",
    "        return zip(map(hash, sub), count(), repeat(seq))\n",
    "\n",
    "    def hash_clusters(groups):\n",
    "        clusters = [(c[0][1], set(map(itemgetter(-1), c)))\n",
    "                    for c in split_when(groups, lambda s1, s2: s1[1] != s2[1])]\n",
    "        if clusters[0][0] == 0:\n",
    "            clusters = [(p, c.union(clusters[0][1])) for p, c in clusters[1:]]\n",
    "        return filterfalse(lambda g: len(g[1]) == 1, clusters)\n",
    "\n",
    "    sub_keys = chain(*map(hash_subsequences, sequence_list))\n",
    "    sorted_keys = sorted(sub_keys, key=lambda k: k[0] + k[1])\n",
    "\n",
    "    hash_groups = split_when(sorted_keys, lambda s1, s2: s1[0] != s2[0])\n",
    "    hash_groups = filterfalse(lambda g: len(g) == 1, hash_groups)\n",
    "    hash_groups = chain(*map(hash_clusters, hash_groups))\n",
    "\n",
    "    return set(tuple(sorted(edge)) for group in hash_groups for edge in combinations(group[1], 2))\n",
    "\n",
    "clusters = levenshtein(amino_acid_keys[:100000])\n",
    "clusters[0:2]"
   ],
   "metadata": {
    "collapsed": false,
    "ExecuteTime": {
     "end_time": "2023-05-23T13:57:26.265189300Z",
     "start_time": "2023-05-23T13:57:26.155680800Z"
    }
   }
  },
  {
   "cell_type": "markdown",
   "source": [
    "time and memory profiling"
   ],
   "metadata": {
    "collapsed": false
   }
  },
  {
   "cell_type": "code",
   "execution_count": null,
   "outputs": [],
   "source": [
    "import numpy as np\n",
    "from operator import getitem, itemgetter\n",
    "from itertools import combinations, count, groupby, repeat, starmap\n",
    "from more_itertools import unique_justseen\n",
    "\n",
    "def levenshtein_cluster(sequences):\n",
    "    hashes = np.array([(hash(s[:i] + s[i + 1:]) ^ (len(s) - i), si)\n",
    "                       for si, s in enumerate(sequences) for i in range(len(s) + 1)])\n",
    "\n",
    "    hashes = hashes[hashes[:, 0].argsort(), :]\n",
    "\n",
    "    unique_h, index = np.unique(hashes[:, 0], return_index=True)\n",
    "    index = [index[i] for i in range(1, len(unique_h)) if\n",
    "             abs(unique_h[i] - unique_h[i - 1]) > 10]  # CHANGE TO MAX SEQUENCE LENGTH INSTEAD OF 10\n",
    "\n",
    "    clusters = []\n",
    "    for grouped_i in np.split(hashes, index, axis=0):\n",
    "\n",
    "        cluster = [set(sequences[i] for i in map(itemgetter(1), g))\n",
    "                   for _, g in groupby(grouped_i.tolist(), key=itemgetter(0))]\n",
    "\n",
    "        if len(set(map(len, set.union(*cluster)))) == 2:\n",
    "            gap = min(set.union(*cluster), key=len)\n",
    "            for i in range(len(cluster)): cluster[i].add(gap)\n",
    "\n",
    "        clusters += [tuple(sorted(e)) for c in cluster if len(c) > 1 for e in combinations(c, 2)]\n",
    "\n",
    "    return clusters\n",
    "\n",
    "clusters = levenshtein_cluster(amino_acid_keys)\n",
    "clusters[0:2]"
   ],
   "metadata": {
    "collapsed": false
   }
  },
  {
   "cell_type": "code",
   "execution_count": 17,
   "outputs": [
    {
     "name": "stdout",
     "output_type": "stream",
     "text": [
      "6.76 ms ± 146 µs per loop (mean ± std. dev. of 7 runs, 100 loops each)\n"
     ]
    }
   ],
   "source": [
    "%%timeit\n",
    "import numpy as np\n",
    "np.random.seed(0)\n",
    "np.random.rand(1000000)"
   ],
   "metadata": {
    "collapsed": false,
    "ExecuteTime": {
     "end_time": "2023-05-23T13:18:43.271269700Z",
     "start_time": "2023-05-23T13:18:37.542756Z"
    }
   }
  },
  {
   "cell_type": "code",
   "execution_count": null,
   "outputs": [],
   "source": [],
   "metadata": {
    "collapsed": false
   }
  }
 ],
 "metadata": {
  "kernelspec": {
   "display_name": "Python 3",
   "language": "python",
   "name": "python3"
  },
  "language_info": {
   "codemirror_mode": {
    "name": "ipython",
    "version": 2
   },
   "file_extension": ".py",
   "mimetype": "text/x-python",
   "name": "python",
   "nbconvert_exporter": "python",
   "pygments_lexer": "ipython2",
   "version": "2.7.6"
  }
 },
 "nbformat": 4,
 "nbformat_minor": 0
}
